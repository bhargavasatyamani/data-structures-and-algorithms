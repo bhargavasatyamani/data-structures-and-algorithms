{
 "cells": [
  {
   "attachments": {},
   "cell_type": "markdown",
   "metadata": {},
   "source": [
    "## Recursion"
   ]
  },
  {
   "cell_type": "code",
   "execution_count": null,
   "metadata": {},
   "outputs": [],
   "source": []
  },
  {
   "cell_type": "code",
   "execution_count": 12,
   "metadata": {},
   "outputs": [
    {
     "data": {
      "text/plain": [
       "24"
      ]
     },
     "execution_count": 12,
     "metadata": {},
     "output_type": "execute_result"
    }
   ],
   "source": [
    "\"\"\"\n",
    "    Fibbonacci sequence\n",
    "\"\"\"\n",
    "\n",
    "def fib(n):\n",
    "    if n==0:\n",
    "        return 1\n",
    "    else:\n",
    "        return n*fib(n-1)\n",
    "\n",
    "fib(4)"
   ]
  },
  {
   "cell_type": "code",
   "execution_count": 13,
   "metadata": {},
   "outputs": [
    {
     "name": "stdout",
     "output_type": "stream",
     "text": [
      "32100123"
     ]
    }
   ],
   "source": [
    "\"\"\"\n",
    "    input : 3\n",
    "    ouput : 321123\n",
    "\"\"\"\n",
    "\n",
    "def decinc(n):\n",
    "    if n == 0:\n",
    "        print(f\"{n}{n}\",end=\"\")\n",
    "        return n\n",
    "    else:\n",
    "        print(n,end=\"\")\n",
    "        decinc(n-1)\n",
    "        print(n,end=\"\")\n",
    "\n",
    "decinc(3)"
   ]
  },
  {
   "cell_type": "code",
   "execution_count": 14,
   "metadata": {},
   "outputs": [
    {
     "data": {
      "text/plain": [
       "[4, 1, 3, 2]"
      ]
     },
     "execution_count": 14,
     "metadata": {},
     "output_type": "execute_result"
    }
   ],
   "source": [
    "\"\"\"\n",
    "    Tower of Hanoi\n",
    "\"\"\"\n",
    "\n",
    "def toh(F,A,T):\n",
    "    if len(F)>1:\n",
    "        A = [F.pop() for _ in range()]\n",
    "        T.append(F.pop())\n",
    "        F = []\n",
    "        return toh(A,F,T)\n",
    "    else:\n",
    "        T=T + [F[0]]\n",
    "        return T\n",
    "\n",
    "\n",
    "F = [4,3,2,1]\n",
    "A = []\n",
    "T = []\n",
    "toh(F,A,T)\n"
   ]
  },
  {
   "attachments": {},
   "cell_type": "markdown",
   "metadata": {},
   "source": [
    "A = [1]\n",
    "T = [2]\n",
    "F = [4,3]\n"
   ]
  },
  {
   "attachments": {},
   "cell_type": "markdown",
   "metadata": {},
   "source": [
    "#### Tail recursion\n",
    "    Tail recursions are faster because the latest recursion is elemenated from the stack after it is completed. Try to use tail recursions."
   ]
  },
  {
   "cell_type": "code",
   "execution_count": 15,
   "metadata": {},
   "outputs": [
    {
     "data": {
      "text/plain": [
       "'\\n    Fibbonacci by tail recursion\\n'"
      ]
     },
     "execution_count": 15,
     "metadata": {},
     "output_type": "execute_result"
    }
   ],
   "source": [
    "\"\"\"\n",
    "    Fibbonacci by tail recursion\n",
    "\"\"\""
   ]
  },
  {
   "cell_type": "code",
   "execution_count": 6,
   "metadata": {},
   "outputs": [
    {
     "data": {
      "text/plain": [
       "['3']"
      ]
     },
     "execution_count": 6,
     "metadata": {},
     "output_type": "execute_result"
    }
   ],
   "source": [
    "\"\"\"\n",
    "    Joseph's problem\n",
    "\"\"\"\n",
    "\n",
    "def jp(arr:list, k:int,p:int) -> list:\n",
    "    l = len(arr)\n",
    "    if l == 1:\n",
    "        return arr\n",
    "    \n",
    "    kill = k+p-1\n",
    "    kill = kill%l\n",
    "    \n",
    "    arr.pop(kill)\n",
    "    return jp(arr,k,kill)\n",
    "\n",
    "\n",
    "\n",
    "\n",
    "arr = list('123')\n",
    "k = 2\n",
    "\n",
    "jp(arr,k,0)\n",
    "\n",
    "\n",
    "    "
   ]
  },
  {
   "cell_type": "code",
   "execution_count": 21,
   "metadata": {},
   "outputs": [
    {
     "data": {
      "text/plain": [
       "3"
      ]
     },
     "execution_count": 21,
     "metadata": {},
     "output_type": "execute_result"
    }
   ],
   "source": [
    "\"\"\"\n",
    "    Rope cut problem\n",
    "\"\"\"\n",
    "\n",
    "x = 4\n",
    "sizes = [1,2]\n",
    "\n",
    "def cut_rope(x,sizes,cnt=2):\n",
    "    all_counts = []\n",
    "    new_ropes = [x-i for i in sizes]\n",
    "    for rope_len in new_ropes:\n",
    "        if rope_len == 0:\n",
    "            return cnt-1\n",
    "        if rope_len < 0:\n",
    "            return cnt-1\n",
    "        all_counts.append(cut_rope(rope_len,sizes, cnt+1))\n",
    "    return max(all_counts)\n",
    "\n",
    "cut_rope(x, sizes)"
   ]
  },
  {
   "cell_type": "code",
   "execution_count": 8,
   "metadata": {},
   "outputs": [
    {
     "data": {
      "text/plain": [
       "6"
      ]
     },
     "execution_count": 8,
     "metadata": {},
     "output_type": "execute_result"
    }
   ],
   "source": [
    "\"\"\"\n",
    "Rain water storing\n",
    "\"\"\"\n",
    "\n",
    "arr = [0, 1, 0, 2, 1, 0, 1, 3, 2, 1, 2, 1]\n",
    "\n",
    "def water_tapping(arr):\n",
    "    l = len(arr)\n",
    "    total_water = 0\n",
    "    start_point = 0\n",
    "    end_point = l-1\n",
    "    inbetween_space = 0\n",
    "    inbetween_space_other = 0\n",
    "    for index in range(1,l):\n",
    "        \n",
    "        if arr[start_point] < arr[index]:\n",
    "            total_water += min(arr[start_point],arr[index])*(index-start_point-1)-inbetween_space\n",
    "            inbetween_space = 0\n",
    "            start_point = index\n",
    "        else:\n",
    "            inbetween_space += arr[index]\n",
    "        \n",
    "        if arr[end_point] < arr[l-1-index]:\n",
    "            total_water += min(arr[end_point],arr[l-1-index])*(end_point-(l-1-index)-1)-inbetween_space_other\n",
    "            inbetween_space_other = 0\n",
    "            end_point = l-1-index\n",
    "        else:\n",
    "            inbetween_space_other += arr[l-index-1]\n",
    "\n",
    "    return total_water\n",
    "\n",
    "water_tapping(arr)\n"
   ]
  }
 ],
 "metadata": {
  "kernelspec": {
   "display_name": "rough",
   "language": "python",
   "name": "python3"
  },
  "language_info": {
   "codemirror_mode": {
    "name": "ipython",
    "version": 3
   },
   "file_extension": ".py",
   "mimetype": "text/x-python",
   "name": "python",
   "nbconvert_exporter": "python",
   "pygments_lexer": "ipython3",
   "version": "3.8.5"
  },
  "orig_nbformat": 4,
  "vscode": {
   "interpreter": {
    "hash": "3930fcce170ef938206caf31dba5428ffcea9f5c1943b7e7ec37c26c241cb62a"
   }
  }
 },
 "nbformat": 4,
 "nbformat_minor": 2
}
