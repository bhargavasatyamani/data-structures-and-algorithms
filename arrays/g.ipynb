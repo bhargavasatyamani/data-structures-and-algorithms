{
 "cells": [
  {
   "cell_type": "code",
   "execution_count": null,
   "metadata": {},
   "outputs": [],
   "source": [
    "\"\"\"\n",
    "Rain water storing\n",
    "\"\"\"\n",
    "\n",
    "arr = [0, 1, 0, 2, 1, 0, 1, 3, 2, 1, 2, 1]\n",
    "\n",
    "def water_tapping(arr):\n",
    "    l = len(arr)\n",
    "    total_water = 0\n",
    "    start_point = 0\n",
    "    end_point = l-1\n",
    "    inbetween_space = 0\n",
    "    inbetween_space_other = 0\n",
    "    for index in range(1,l):\n",
    "        \n",
    "        if arr[start_point] < arr[index]:\n",
    "            total_water += min(arr[start_point],arr[index])*(index-start_point-1)-inbetween_space\n",
    "            inbetween_space = 0\n",
    "            start_point = index\n",
    "        else:\n",
    "            inbetween_space += arr[index]\n",
    "        \n",
    "        if arr[end_point] < arr[l-1-index]:\n",
    "            total_water += min(arr[end_point],arr[l-1-index])*(end_point-(l-1-index)-1)-inbetween_space_other\n",
    "            inbetween_space_other = 0\n",
    "            end_point = l-1-index\n",
    "        else:\n",
    "            inbetween_space_other += arr[l-index-1]\n",
    "\n",
    "    return total_water\n",
    "\n",
    "water_tapping(arr)\n"
   ]
  }
 ],
 "metadata": {
  "language_info": {
   "name": "python"
  },
  "orig_nbformat": 4
 },
 "nbformat": 4,
 "nbformat_minor": 2
}
